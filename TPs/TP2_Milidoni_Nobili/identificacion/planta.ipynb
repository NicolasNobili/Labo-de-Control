{
 "cells": [
  {
   "cell_type": "code",
   "execution_count": 11,
   "metadata": {},
   "outputs": [
    {
     "name": "stdout",
     "output_type": "stream",
     "text": [
      "Función de transferencia continua (en LaTeX):\n",
      "\\left[\\begin{matrix}\\frac{Kp \\gamma s \\left(- Ca - \\psi s\\right)}{C Ca s^{2} + C Kp \\gamma s + C \\psi s^{3} - Ca Kp \\alpha \\beta s + Ca \\psi s^{3} - Kp^{2} \\alpha \\beta \\gamma + Kp^{2} \\alpha \\gamma - Kp \\alpha \\beta \\psi s^{2} + Kp \\gamma \\psi s^{2} + \\psi^{2} s^{4}}\\end{matrix}\\right]\n",
      "\n",
      "Función de transferencia discretizada por Tustin (en LaTeX):\n",
      "\\left[\\begin{matrix}- \\frac{2 Kp T^{2} \\gamma \\left(z - 1\\right) \\left(z + 1\\right)^{2} \\left(Ca T \\left(z + 1\\right) + 2 \\psi \\left(z - 1\\right)\\right)}{- Kp^{2} T^{4} \\alpha \\gamma \\left(\\beta - 1\\right) \\left(z + 1\\right)^{4} + 2 Kp T^{3} \\left(z - 1\\right) \\left(z + 1\\right)^{3} \\left(C \\gamma - Ca \\alpha \\beta\\right) + 4 T^{2} \\left(z - 1\\right)^{2} \\left(z + 1\\right)^{2} \\left(C Ca - Kp \\alpha \\beta \\psi + Kp \\gamma \\psi\\right) + 8 T \\psi \\left(C + Ca\\right) \\left(z - 1\\right)^{3} \\left(z + 1\\right) + 16 \\psi^{2} \\left(z - 1\\right)^{4}}\\end{matrix}\\right]\n"
     ]
    }
   ],
   "source": [
    "import sympy as sp\n",
    "from sympy import latex\n",
    "\n",
    "# Definir los parámetros simbólicos\n",
    "alpha, beta, gamma, Kp, C, Ca, psi, s, T, z = sp.symbols('alpha beta gamma Kp C Ca psi s T z')\n",
    "\n",
    "# Definir matrices simbólicas del sistema de estado\n",
    "A = sp.Matrix([[0, 0, 1, 0],\n",
    "               [0, 0, 0, 1],\n",
    "               [beta*alpha*Kp/psi, gamma*Kp/psi, -C/psi, 0],\n",
    "               [-alpha*Kp/psi, -gamma*Kp/psi, 0, -Ca/psi]])\n",
    "\n",
    "B = sp.Matrix([[0],\n",
    "               [0],\n",
    "               [-gamma*Kp/psi],\n",
    "               [gamma*Kp/psi]])\n",
    "\n",
    "C = sp.Matrix([[1, 0, 0, 0]])\n",
    "\n",
    "D = sp.Matrix([[0]])\n",
    "\n",
    "# Identidad para calcular (sI - A)\n",
    "I = sp.eye(A.shape[0])\n",
    "\n",
    "# Función de transferencia: G(s) = C * (sI - A)^-1 * B + D\n",
    "G_s = C * (s * I - A).inv() * B + D\n",
    "\n",
    "# Simplificar el resultado\n",
    "G_s_simplified = sp.simplify(G_s)\n",
    "\n",
    "# Mostrar la función de transferencia\n",
    "latex_code = latex(G_s_simplified)\n",
    "\n",
    "# Aplicar la transformación de Tustin: s = 2/T * (1 - z**(-1)) / (1 + z**(-1))\n",
    "tustin_transform = (2 / T) * (1 - z**(-1)) / (1 + z**(-1))\n",
    "\n",
    "# Sustituir s por la transformación de Tustin\n",
    "G_z = G_s_simplified.subs(s, tustin_transform)\n",
    "\n",
    "# Simplificar el resultado en el dominio z\n",
    "G_z_simplified = sp.simplify(G_z)\n",
    "\n",
    "# Convertir la función de transferencia a formato LaTeX\n",
    "latex_code_discrete = latex(G_z_simplified)\n",
    "\n",
    "# Mostrar el código LaTeX de la versión discretizada\n",
    "print(\"Función de transferencia continua (en LaTeX):\")\n",
    "print(latex_code)\n",
    "\n",
    "print(\"\\nFunción de transferencia discretizada por Tustin (en LaTeX):\")\n",
    "print(latex_code_discrete)\n"
   ]
  },
  {
   "cell_type": "markdown",
   "metadata": {},
   "source": [
    "$$ \\left[\\begin{matrix}\\frac{Kp \\gamma s \\left(- Ca - \\psi s\\right)}{C Ca s^{2} + C Kp \\gamma s + C \\psi s^{3} - Ca Kp \\alpha \\beta s + Ca \\psi s^{3} - Kp^{2} \\alpha \\beta \\gamma + Kp^{2} \\alpha \\gamma - Kp \\alpha \\beta \\psi s^{2} + Kp \\gamma \\psi s^{2} + \\psi^{2} s^{4}}\\end{matrix}\\right] $$\n"
   ]
  },
  {
   "cell_type": "markdown",
   "metadata": {},
   "source": [
    "$$ \\left[\\begin{matrix}- \\frac{2 Kp T^{2} \\gamma \\left(z - 1\\right) \\left(z + 1\\right)^{2} \\left(Ca T \\left(z + 1\\right) + 2 \\psi \\left(z - 1\\right)\\right)}{- Kp^{2} T^{4} \\alpha \\gamma \\left(\\beta - 1\\right) \\left(z + 1\\right)^{4} + 2 Kp T^{3} \\left(z - 1\\right) \\left(z + 1\\right)^{3} \\left(C \\gamma - Ca \\alpha \\beta\\right) + 4 T^{2} \\left(z - 1\\right)^{2} \\left(z + 1\\right)^{2} \\left(C Ca - Kp \\alpha \\beta \\psi + Kp \\gamma \\psi\\right) + 8 T \\psi \\left(C + Ca\\right) \\left(z - 1\\right)^{3} \\left(z + 1\\right) + 16 \\psi^{2} \\left(z - 1\\right)^{4}}\\end{matrix}\\right] $$\n"
   ]
  },
  {
   "cell_type": "code",
   "execution_count": 28,
   "metadata": {},
   "outputs": [
    {
     "data": {
      "text/latex": [
       "$\\displaystyle \\frac{- 2 T^{3} a k z^{4} - 4 T^{3} a k z^{3} + 4 T^{3} a k z + 2 T^{3} a k + 4 T^{2} k z^{4} - 8 T^{2} k z^{2} + 4 T^{2} k}{T^{4} e z^{4} + 4 T^{4} e z^{3} + 6 T^{4} e z^{2} + 4 T^{4} e z + T^{4} e + 2 T^{3} d z^{4} + 4 T^{3} d z^{3} - 4 T^{3} d z - 2 T^{3} d + 4 T^{2} c z^{4} - 8 T^{2} c z^{2} + 4 T^{2} c + 8 T b z^{4} - 16 T b z^{3} + 16 T b z - 8 T b + 16 z^{4} - 64 z^{3} + 96 z^{2} - 64 z + 16}$"
      ],
      "text/plain": [
       "(-2*T**3*a*k*z**4 - 4*T**3*a*k*z**3 + 4*T**3*a*k*z + 2*T**3*a*k + 4*T**2*k*z**4 - 8*T**2*k*z**2 + 4*T**2*k)/(T**4*e*z**4 + 4*T**4*e*z**3 + 6*T**4*e*z**2 + 4*T**4*e*z + T**4*e + 2*T**3*d*z**4 + 4*T**3*d*z**3 - 4*T**3*d*z - 2*T**3*d + 4*T**2*c*z**4 - 8*T**2*c*z**2 + 4*T**2*c + 8*T*b*z**4 - 16*T*b*z**3 + 16*T*b*z - 8*T*b + 16*z**4 - 64*z**3 + 96*z**2 - 64*z + 16)"
      ]
     },
     "metadata": {},
     "output_type": "display_data"
    }
   ],
   "source": [
    "# Definir los parámetros simbólicos\n",
    "k, a, b, c, d, e, s, z, T = sp.symbols('k a b c d e s z T')\n",
    "\n",
    "G_s = (k*s*(s-a))/(s**4 + b*s**3 + c*s**2 + d*s +e)\n",
    "\n",
    "# Aplicar la transformación de Tustin: s = 2/T * (1 - z**(-1)) / (1 + z**(-1))\n",
    "tustin_transform = (2 / T) * (1 - z**(-1)) / (1 + z**(-1))\n",
    "\n",
    "# Sustituir s por la transformación de Tustin\n",
    "G_z = G_s.subs(s, tustin_transform)\n",
    "\n",
    "# Simplificar el resultado en el dominio z\n",
    "G_z_simplified = sp.simplify(G_z)\n",
    "G_z_expanded = sp.expand(G_z_simplified)\n",
    "\n",
    "# Convertir la función de transferencia a formato LaTeX\n",
    "latex_code_discrete = latex(G_z_expanded)\n",
    "\n",
    "\n",
    "#display(G_z_expanded.as_numer_denom())\n",
    "\n",
    "P = G_z_expanded.as_numer_denom()[0] / G_z_expanded.as_numer_denom()[1]\n",
    "\n",
    "display(P)"
   ]
  },
  {
   "cell_type": "code",
   "execution_count": 30,
   "metadata": {},
   "outputs": [
    {
     "ename": "AttributeError",
     "evalue": "module 'sympy' has no attribute 'ztransform'",
     "output_type": "error",
     "traceback": [
      "\u001b[1;31m---------------------------------------------------------------------------\u001b[0m",
      "\u001b[1;31mAttributeError\u001b[0m                            Traceback (most recent call last)",
      "Cell \u001b[1;32mIn [30], line 25\u001b[0m\n\u001b[0;32m     22\u001b[0m g_t_evaluated \u001b[38;5;241m=\u001b[39m g_t\u001b[38;5;241m.\u001b[39msubs(t, T_value)\n\u001b[0;32m     24\u001b[0m \u001b[38;5;66;03m# Aplicar la transformada Z a g(t)\u001b[39;00m\n\u001b[1;32m---> 25\u001b[0m G_z \u001b[38;5;241m=\u001b[39m sp\u001b[38;5;241m.\u001b[39mztransform(g_t_evaluated, t, z)\n\u001b[0;32m     27\u001b[0m \u001b[38;5;66;03m# Expandir los factores para obtener un polinomio\u001b[39;00m\n\u001b[0;32m     28\u001b[0m G_z_expanded \u001b[38;5;241m=\u001b[39m sp\u001b[38;5;241m.\u001b[39mexpand(G_z)\n",
      "\u001b[1;31mAttributeError\u001b[0m: module 'sympy' has no attribute 'ztransform'"
     ]
    }
   ],
   "source": [
    "import sympy as sp\n",
    "from sympy import latex\n",
    "\n",
    "# Definir los parámetros simbólicos\n",
    "s, z, T, t = sp.symbols('s z T t')\n",
    "\n",
    "# Definir la función de transferencia continua\n",
    "G_s = 2 / (s + 4)\n",
    "\n",
    "# Mostrar la función de transferencia en el dominio continuo\n",
    "latex_code = latex(G_s)\n",
    "\n",
    "# Discretización mediante Zero Order Hold (ZOH)\n",
    "# Multiplicamos G(s) por 1/s y aplicamos la inversa de la transformada de Laplace para obtener g(t)\n",
    "G_s_with_s = G_s / s\n",
    "g_t = sp.inverse_laplace_transform(G_s_with_s, s, t)\n",
    "\n",
    "# Usamos la Transformada Z de g(t) muestreada con periodo T = 0.1\n",
    "T_value = 0.1\n",
    "\n",
    "# Calcular g(t) evaluando en t = T\n",
    "g_t_evaluated = g_t.subs(t, T_value)\n",
    "\n",
    "# Aplicar la transformada Z a g(t)\n",
    "G_z = sp.ztransform(g_t_evaluated, t, z)\n",
    "\n",
    "# Expandir los factores para obtener un polinomio\n",
    "G_z_expanded = sp.expand(G_z)\n",
    "\n",
    "# Simplificar el resultado en el dominio z\n",
    "G_z_simplified = sp.simplify(G_z_expanded)\n",
    "\n",
    "# Convertir la función de transferencia a formato LaTeX\n",
    "latex_code_discrete = latex(G_z_simplified)\n",
    "\n",
    "# Mostrar el código LaTeX de la versión discretizada\n",
    "print(\"Función de transferencia continua (en LaTeX):\")\n",
    "print(latex_code)\n",
    "\n",
    "print(\"\\nFunción de transferencia discretizada por ZOH (con T = 0.1) (en LaTeX):\")\n",
    "print(latex_code_discrete)\n"
   ]
  }
 ],
 "metadata": {
  "kernelspec": {
   "display_name": "Python 3",
   "language": "python",
   "name": "python3"
  },
  "language_info": {
   "codemirror_mode": {
    "name": "ipython",
    "version": 3
   },
   "file_extension": ".py",
   "mimetype": "text/x-python",
   "name": "python",
   "nbconvert_exporter": "python",
   "pygments_lexer": "ipython3",
   "version": "3.10.6"
  }
 },
 "nbformat": 4,
 "nbformat_minor": 2
}
